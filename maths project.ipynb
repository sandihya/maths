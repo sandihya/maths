{
 "cells": [
  {
   "cell_type": "code",
   "execution_count": 1,
   "metadata": {},
   "outputs": [
    {
     "name": "stdout",
     "output_type": "stream",
     "text": [
      "Your time limit is 60 seconds\n",
      "Your given numbers are: 16 20 19\n",
      "Your target number is: 174\n",
      "Within the time limit you have to get closest number to 174 using the given numbers: 16 20 19\n"
     ]
    }
   ],
   "source": [
    "import random \n",
    "l=int(input(\"Which level of difficulty? (1-3)\"))\n",
    "if l==1:\n",
    "  print(\"Your time limit is 60 seconds\")\n",
    "elif l==2:\n",
    "  print(\"Your time limit is 40 seconds\")\n",
    "else:\n",
    "  print(\"Your time limit is 20 seconds\")\n",
    "a=random.randint(10,20)\n",
    "b=random.randint(10,20)\n",
    "c=random.randint(10,20)\n",
    "d=random.randint(100,300)\n",
    "print(\"Your given numbers are:\",a,b,c)\n",
    "print(\"Your target number is:\",d)\n",
    "print(\"Within the time limit you have to get closest number to\",d,\"using the given numbers:\",a,b,c)"
   ]
  }
 ],
 "metadata": {
  "kernelspec": {
   "display_name": "base",
   "language": "python",
   "name": "python3"
  },
  "language_info": {
   "codemirror_mode": {
    "name": "ipython",
    "version": 3
   },
   "file_extension": ".py",
   "mimetype": "text/x-python",
   "name": "python",
   "nbconvert_exporter": "python",
   "pygments_lexer": "ipython3",
   "version": "undefined.undefined.undefined"
  }
 },
 "nbformat": 4,
 "nbformat_minor": 2
}
